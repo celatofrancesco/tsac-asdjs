{
 "metadata": {
  "name": "Programmazione Iterativa"
 },
 "nbformat": 3,
 "nbformat_minor": 0,
 "worksheets": [
  {
   "cells": [
    {
     "cell_type": "code",
     "collapsed": false,
     "input": "array = [5, 4, 3, -2, 1, 6, 7, 1, 9, 8]",
     "language": "python",
     "metadata": {},
     "outputs": [],
     "prompt_number": "*"
    },
    {
     "cell_type": "code",
     "collapsed": false,
     "input": "function esercizio1(array){\n    somma = 0;\n    for(i = 0; i < array.length; i++){\n        if(array[i] < 0){\n          return somma;\n        } else {\n        somma = somma + array[i];\n        }\n    }\n    return somma;\n}",
     "language": "python",
     "metadata": {},
     "outputs": [],
     "prompt_number": "*"
    },
    {
     "cell_type": "code",
     "collapsed": false,
     "input": "esercizio1(array);",
     "language": "python",
     "metadata": {},
     "outputs": [],
     "prompt_number": "*"
    },
    {
     "cell_type": "code",
     "collapsed": false,
     "input": "function esercizio2(n){\n    sum = 0;\n    for(j = 0; j <= n; j++){\n        if(j%2 != 0){\n            sum = sum + j;\n        }\n    }\n    return sum;\n}",
     "language": "python",
     "metadata": {},
     "outputs": [
      {
       "metadata": {},
       "output_type": "pyout",
       "prompt_number": 1,
       "text": "undefined"
      }
     ],
     "prompt_number": 1
    },
    {
     "cell_type": "code",
     "collapsed": false,
     "input": "esercizio2(5);",
     "language": "python",
     "metadata": {},
     "outputs": [
      {
       "metadata": {},
       "output_type": "pyout",
       "prompt_number": 2,
       "text": "9"
      }
     ],
     "prompt_number": 2
    },
    {
     "cell_type": "code",
     "collapsed": false,
     "input": "function esercizio3(array){\n    som_Array = 0;\n    for(k = 0; k < array.length; k++){\n        som_Array = som_Array + array[k];\n    }\n    return som_Array/array.length;\n}",
     "language": "python",
     "metadata": {},
     "outputs": [],
     "prompt_number": "*"
    },
    {
     "cell_type": "code",
     "collapsed": false,
     "input": "esercizio3(array);",
     "language": "python",
     "metadata": {},
     "outputs": [],
     "prompt_number": "*"
    },
    {
     "cell_type": "code",
     "collapsed": false,
     "input": "function esercizio4(primo_valore,secondo_valore){\n    sum_Val = 0;\n    if(primo_valore < secondo_valore){\n        for(a = primo_valore; a <= secondo_valore; a++){\n            sum_Val = sum_Val + a;\n        }\n    } else {\n        for(b = secondo_valore; b <= primo_valore; b++){\n            sum_Val = sum_Val + b;\n        }\n    }\n    return sum_Val;\n}",
     "language": "python",
     "metadata": {},
     "outputs": [],
     "prompt_number": "*"
    },
    {
     "cell_type": "code",
     "collapsed": false,
     "input": "esercizio4(3,5);",
     "language": "python",
     "metadata": {},
     "outputs": [],
     "prompt_number": "*"
    },
    {
     "cell_type": "code",
     "collapsed": false,
     "input": "function esercizio5(prim_Val,sec_Val){\n    somma_Molt = 0;\n    for(t = 0; t < sec_Val; t++){\n        somma_Molt = somma_Molt + prim_Val;\n    }\n    return somma_Molt;\n}",
     "language": "python",
     "metadata": {},
     "outputs": [],
     "prompt_number": "*"
    },
    {
     "cell_type": "code",
     "collapsed": false,
     "input": "esercizio5(3,4);",
     "language": "python",
     "metadata": {},
     "outputs": [],
     "prompt_number": "*"
    },
    {
     "cell_type": "code",
     "collapsed": false,
     "input": "function esercizio6(v1,v2){\n    n_Volte = 0;\n    resto = 0;\n    v_Help = v2;\n    \n    while(v1 >= v2){\n            n_Volte = n_Volte + 1;\n            v2 = v2 + v2;\n    }    \n    resto = v1 - v_Help;\n    return console.log('Ci sta ' + n_Volte + ' volta' + ', con resto ' + resto + ';');\n}",
     "language": "python",
     "metadata": {},
     "outputs": [],
     "prompt_number": "*"
    },
    {
     "cell_type": "code",
     "collapsed": false,
     "input": "esercizio6(5,3);",
     "language": "python",
     "metadata": {},
     "outputs": [],
     "prompt_number": "*"
    }
   ],
   "metadata": {}
  }
 ]
}